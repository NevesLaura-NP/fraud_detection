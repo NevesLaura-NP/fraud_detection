{
 "cells": [
  {
   "cell_type": "code",
   "execution_count": 99,
   "metadata": {},
   "outputs": [],
   "source": [
    "import pandas as pd\n",
    "import numpy as np\n",
    "from sklearn.utils import class_weight\n",
    "from sklearn.utils import resample\n",
    "\n",
    "df_raw = pd.read_csv(\"Payments.crdownload\")"
   ]
  },
  {
   "cell_type": "markdown",
   "metadata": {},
   "source": [
    "Let's take a look once more into our data set."
   ]
  },
  {
   "cell_type": "code",
   "execution_count": 100,
   "metadata": {},
   "outputs": [
    {
     "data": {
      "text/html": [
       "<div>\n",
       "<style scoped>\n",
       "    .dataframe tbody tr th:only-of-type {\n",
       "        vertical-align: middle;\n",
       "    }\n",
       "\n",
       "    .dataframe tbody tr th {\n",
       "        vertical-align: top;\n",
       "    }\n",
       "\n",
       "    .dataframe thead th {\n",
       "        text-align: right;\n",
       "    }\n",
       "</style>\n",
       "<table border=\"1\" class=\"dataframe\">\n",
       "  <thead>\n",
       "    <tr style=\"text-align: right;\">\n",
       "      <th></th>\n",
       "      <th>step</th>\n",
       "      <th>amount</th>\n",
       "      <th>oldbalanceOrg</th>\n",
       "      <th>newbalanceOrig</th>\n",
       "      <th>oldbalanceDest</th>\n",
       "      <th>newbalanceDest</th>\n",
       "      <th>isFraud</th>\n",
       "      <th>isFlaggedFraud</th>\n",
       "    </tr>\n",
       "  </thead>\n",
       "  <tbody>\n",
       "    <tr>\n",
       "      <th>count</th>\n",
       "      <td>5.500631e+06</td>\n",
       "      <td>5.500631e+06</td>\n",
       "      <td>5.500630e+06</td>\n",
       "      <td>5.500630e+06</td>\n",
       "      <td>5.500630e+06</td>\n",
       "      <td>5.500630e+06</td>\n",
       "      <td>5.500630e+06</td>\n",
       "      <td>5.500630e+06</td>\n",
       "    </tr>\n",
       "    <tr>\n",
       "      <th>mean</th>\n",
       "      <td>2.075349e+02</td>\n",
       "      <td>1.812596e+05</td>\n",
       "      <td>8.411647e+05</td>\n",
       "      <td>8.630762e+05</td>\n",
       "      <td>1.084465e+06</td>\n",
       "      <td>1.213316e+06</td>\n",
       "      <td>7.680938e-04</td>\n",
       "      <td>5.453921e-07</td>\n",
       "    </tr>\n",
       "    <tr>\n",
       "      <th>std</th>\n",
       "      <td>1.112426e+02</td>\n",
       "      <td>6.290423e+05</td>\n",
       "      <td>2.918859e+06</td>\n",
       "      <td>2.955706e+06</td>\n",
       "      <td>3.269174e+06</td>\n",
       "      <td>3.584992e+06</td>\n",
       "      <td>2.770386e-02</td>\n",
       "      <td>7.385065e-04</td>\n",
       "    </tr>\n",
       "    <tr>\n",
       "      <th>min</th>\n",
       "      <td>1.000000e+00</td>\n",
       "      <td>0.000000e+00</td>\n",
       "      <td>0.000000e+00</td>\n",
       "      <td>0.000000e+00</td>\n",
       "      <td>0.000000e+00</td>\n",
       "      <td>0.000000e+00</td>\n",
       "      <td>0.000000e+00</td>\n",
       "      <td>0.000000e+00</td>\n",
       "    </tr>\n",
       "    <tr>\n",
       "      <th>25%</th>\n",
       "      <td>1.380000e+02</td>\n",
       "      <td>1.335506e+04</td>\n",
       "      <td>0.000000e+00</td>\n",
       "      <td>0.000000e+00</td>\n",
       "      <td>0.000000e+00</td>\n",
       "      <td>0.000000e+00</td>\n",
       "      <td>0.000000e+00</td>\n",
       "      <td>0.000000e+00</td>\n",
       "    </tr>\n",
       "    <tr>\n",
       "      <th>50%</th>\n",
       "      <td>2.120000e+02</td>\n",
       "      <td>7.550280e+04</td>\n",
       "      <td>1.386900e+04</td>\n",
       "      <td>0.000000e+00</td>\n",
       "      <td>1.362658e+05</td>\n",
       "      <td>2.191819e+05</td>\n",
       "      <td>0.000000e+00</td>\n",
       "      <td>0.000000e+00</td>\n",
       "    </tr>\n",
       "    <tr>\n",
       "      <th>75%</th>\n",
       "      <td>3.020000e+02</td>\n",
       "      <td>2.095587e+05</td>\n",
       "      <td>1.073630e+05</td>\n",
       "      <td>1.449540e+05</td>\n",
       "      <td>9.467986e+05</td>\n",
       "      <td>1.118979e+06</td>\n",
       "      <td>0.000000e+00</td>\n",
       "      <td>0.000000e+00</td>\n",
       "    </tr>\n",
       "    <tr>\n",
       "      <th>max</th>\n",
       "      <td>3.800000e+02</td>\n",
       "      <td>9.244552e+07</td>\n",
       "      <td>4.381886e+07</td>\n",
       "      <td>4.368662e+07</td>\n",
       "      <td>3.555534e+08</td>\n",
       "      <td>3.560159e+08</td>\n",
       "      <td>1.000000e+00</td>\n",
       "      <td>1.000000e+00</td>\n",
       "    </tr>\n",
       "  </tbody>\n",
       "</table>\n",
       "</div>"
      ],
      "text/plain": [
       "               step        amount  oldbalanceOrg  newbalanceOrig  \\\n",
       "count  5.500631e+06  5.500631e+06   5.500630e+06    5.500630e+06   \n",
       "mean   2.075349e+02  1.812596e+05   8.411647e+05    8.630762e+05   \n",
       "std    1.112426e+02  6.290423e+05   2.918859e+06    2.955706e+06   \n",
       "min    1.000000e+00  0.000000e+00   0.000000e+00    0.000000e+00   \n",
       "25%    1.380000e+02  1.335506e+04   0.000000e+00    0.000000e+00   \n",
       "50%    2.120000e+02  7.550280e+04   1.386900e+04    0.000000e+00   \n",
       "75%    3.020000e+02  2.095587e+05   1.073630e+05    1.449540e+05   \n",
       "max    3.800000e+02  9.244552e+07   4.381886e+07    4.368662e+07   \n",
       "\n",
       "       oldbalanceDest  newbalanceDest       isFraud  isFlaggedFraud  \n",
       "count    5.500630e+06    5.500630e+06  5.500630e+06    5.500630e+06  \n",
       "mean     1.084465e+06    1.213316e+06  7.680938e-04    5.453921e-07  \n",
       "std      3.269174e+06    3.584992e+06  2.770386e-02    7.385065e-04  \n",
       "min      0.000000e+00    0.000000e+00  0.000000e+00    0.000000e+00  \n",
       "25%      0.000000e+00    0.000000e+00  0.000000e+00    0.000000e+00  \n",
       "50%      1.362658e+05    2.191819e+05  0.000000e+00    0.000000e+00  \n",
       "75%      9.467986e+05    1.118979e+06  0.000000e+00    0.000000e+00  \n",
       "max      3.555534e+08    3.560159e+08  1.000000e+00    1.000000e+00  "
      ]
     },
     "execution_count": 100,
     "metadata": {},
     "output_type": "execute_result"
    }
   ],
   "source": [
    "df_raw.describe()"
   ]
  },
  {
   "cell_type": "code",
   "execution_count": 101,
   "metadata": {},
   "outputs": [
    {
     "name": "stdout",
     "output_type": "stream",
     "text": [
      "<class 'pandas.core.frame.DataFrame'>\n",
      "RangeIndex: 5500631 entries, 0 to 5500630\n",
      "Data columns (total 11 columns):\n",
      " #   Column          Dtype  \n",
      "---  ------          -----  \n",
      " 0   step            int64  \n",
      " 1   type            object \n",
      " 2   amount          float64\n",
      " 3   nameOrig        object \n",
      " 4   oldbalanceOrg   float64\n",
      " 5   newbalanceOrig  float64\n",
      " 6   nameDest        object \n",
      " 7   oldbalanceDest  float64\n",
      " 8   newbalanceDest  float64\n",
      " 9   isFraud         float64\n",
      " 10  isFlaggedFraud  float64\n",
      "dtypes: float64(7), int64(1), object(3)\n",
      "memory usage: 461.6+ MB\n"
     ]
    }
   ],
   "source": [
    "df_raw.info()"
   ]
  },
  {
   "cell_type": "code",
   "execution_count": 102,
   "metadata": {},
   "outputs": [
    {
     "data": {
      "text/plain": [
       "step              0\n",
       "type              0\n",
       "amount            0\n",
       "nameOrig          0\n",
       "oldbalanceOrg     1\n",
       "newbalanceOrig    1\n",
       "nameDest          1\n",
       "oldbalanceDest    1\n",
       "newbalanceDest    1\n",
       "isFraud           1\n",
       "isFlaggedFraud    1\n",
       "dtype: int64"
      ]
     },
     "execution_count": 102,
     "metadata": {},
     "output_type": "execute_result"
    }
   ],
   "source": [
    "df_raw.isnull().sum()"
   ]
  },
  {
   "cell_type": "code",
   "execution_count": 103,
   "metadata": {},
   "outputs": [],
   "source": [
    "df = df_raw.dropna()"
   ]
  },
  {
   "cell_type": "markdown",
   "metadata": {},
   "source": [
    "We will now drop all columns that are irrelevant to our modeling according to our discoveries in our EDA"
   ]
  },
  {
   "cell_type": "code",
   "execution_count": 104,
   "metadata": {},
   "outputs": [],
   "source": [
    "df = df.drop(\"isFlaggedFraud\", axis=1).drop(\"nameDest\", axis=1).drop(\"nameOrig\", axis=1)"
   ]
  },
  {
   "cell_type": "markdown",
   "metadata": {},
   "source": [
    "We now need to take measures towards the columns represented by strings. Without some sort of transformation of those columns we will not be able to model our data. Due to the importance of the Type columns and its strong relation to Frauds I will be choosing Frequency Encoding as the frequency of certain transactions such as Cash Out and Transfer can be informative for our fraud prediction."
   ]
  },
  {
   "cell_type": "code",
   "execution_count": 105,
   "metadata": {},
   "outputs": [],
   "source": [
    "frequency_map = df['type'].value_counts().to_dict()\n",
    "df['type'] = df['type'].map(frequency_map)"
   ]
  },
  {
   "cell_type": "markdown",
   "metadata": {},
   "source": [
    "Now considering the computing power needed for the modeling we will be using a sample to dive forward into the modeling stage. Considering the entire data frame has 5500630 rows, I would like to use an approximate number to half of the data. In this case we will be using 30000."
   ]
  },
  {
   "cell_type": "code",
   "execution_count": 106,
   "metadata": {},
   "outputs": [],
   "source": [
    "df = df.sample(n=30000, replace=False)"
   ]
  },
  {
   "cell_type": "code",
   "execution_count": 109,
   "metadata": {},
   "outputs": [],
   "source": [
    "df.to_csv(\"Wrangled_Payments.csv\", index=False)"
   ]
  }
 ],
 "metadata": {
  "kernelspec": {
   "display_name": "phase1",
   "language": "python",
   "name": "python3"
  },
  "language_info": {
   "codemirror_mode": {
    "name": "ipython",
    "version": 3
   },
   "file_extension": ".py",
   "mimetype": "text/x-python",
   "name": "python",
   "nbconvert_exporter": "python",
   "pygments_lexer": "ipython3",
   "version": "3.9.18"
  }
 },
 "nbformat": 4,
 "nbformat_minor": 2
}
